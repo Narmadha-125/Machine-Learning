{
  "nbformat": 4,
  "nbformat_minor": 0,
  "metadata": {
    "colab": {
      "provenance": []
    },
    "kernelspec": {
      "name": "python3",
      "display_name": "Python 3"
    },
    "language_info": {
      "name": "python"
    }
  },
  "cells": [
    {
      "cell_type": "code",
      "execution_count": 2,
      "metadata": {
        "colab": {
          "base_uri": "https://localhost:8080/"
        },
        "id": "GHR4u7AISo7X",
        "outputId": "7258e6ce-8b70-47c1-e2e3-33da17407073"
      },
      "outputs": [
        {
          "output_type": "stream",
          "name": "stdout",
          "text": [
            "              precision    recall  f1-score   support\n",
            "\n",
            "         0.0     0.9960    1.0000    0.9980      1985\n",
            "         1.0     0.0000    0.0000    0.0000         8\n",
            "\n",
            "    accuracy                         0.9960      1993\n",
            "   macro avg     0.4980    0.5000    0.4990      1993\n",
            "weighted avg     0.9920    0.9960    0.9940      1993\n",
            "\n"
          ]
        },
        {
          "output_type": "stream",
          "name": "stderr",
          "text": [
            "/usr/local/lib/python3.11/dist-packages/sklearn/metrics/_classification.py:1565: UndefinedMetricWarning: Precision is ill-defined and being set to 0.0 in labels with no predicted samples. Use `zero_division` parameter to control this behavior.\n",
            "  _warn_prf(average, modifier, f\"{metric.capitalize()} is\", len(result))\n",
            "/usr/local/lib/python3.11/dist-packages/sklearn/metrics/_classification.py:1565: UndefinedMetricWarning: Precision is ill-defined and being set to 0.0 in labels with no predicted samples. Use `zero_division` parameter to control this behavior.\n",
            "  _warn_prf(average, modifier, f\"{metric.capitalize()} is\", len(result))\n",
            "/usr/local/lib/python3.11/dist-packages/sklearn/metrics/_classification.py:1565: UndefinedMetricWarning: Precision is ill-defined and being set to 0.0 in labels with no predicted samples. Use `zero_division` parameter to control this behavior.\n",
            "  _warn_prf(average, modifier, f\"{metric.capitalize()} is\", len(result))\n"
          ]
        }
      ],
      "source": [
        "import numpy as np\n",
        "import pandas as pd\n",
        "from sklearn.model_selection import train_test_split\n",
        "from sklearn.ensemble import RandomForestClassifier\n",
        "from sklearn.semi_supervised import SelfTrainingClassifier\n",
        "from sklearn.metrics import classification_report\n",
        "\n",
        "# 1. Load data\n",
        "df = pd.read_csv('creditcard.csv')  # downloaded from Kaggle\n",
        "\n",
        "# Drop rows with NaN values\n",
        "df.dropna(inplace=True)\n",
        "\n",
        "# 2. Preprocess: separate features and labels\n",
        "X = df.drop('Class', axis=1).values\n",
        "y = df['Class'].values\n",
        "\n",
        "# Split the data into initial training and test sets\n",
        "X_train_initial, X_test, y_train_initial, y_test = train_test_split(X, y, test_size=0.2, stratify=y, random_state=42)\n",
        "\n",
        "# Use only a few labeled examples from the initial training set, keep rest unlabeled\n",
        "X_train, X_unlabeled, y_train, y_unlabeled = train_test_split(X_train_initial, y_train_initial, test_size=0.95, stratify=y_train_initial, random_state=42)\n",
        "y_unlabeled[:] = -1  # mark all unlabeled as -1\n",
        "\n",
        "# Combine for semi-supervised fitting\n",
        "X_combined = np.vstack([X_train, X_unlabeled])\n",
        "y_combined = np.concatenate([y_train, y_unlabeled])\n",
        "\n",
        "# 3. Initialize self-training with RandomForest base estimator\n",
        "base_clf = RandomForestClassifier(n_estimators=100, random_state=42)\n",
        "self_clf = SelfTrainingClassifier(estimator=base_clf, threshold=0.9, max_iter=10)\n",
        "\n",
        "# 4. Train\n",
        "self_clf.fit(X_combined, y_combined)\n",
        "\n",
        "# 5. Evaluate on held-out labeled test set\n",
        "y_pred = self_clf.predict(X_test)\n",
        "\n",
        "print(classification_report(y_test, y_pred, digits=4))"
      ]
    }
  ]
}